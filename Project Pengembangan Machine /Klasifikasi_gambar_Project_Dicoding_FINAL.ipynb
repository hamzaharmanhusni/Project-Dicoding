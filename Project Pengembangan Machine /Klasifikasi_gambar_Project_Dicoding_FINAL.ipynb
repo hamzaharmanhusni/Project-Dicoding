{
  "cells": [
    {
      "cell_type": "markdown",
      "metadata": {
        "id": "view-in-github",
        "colab_type": "text"
      },
      "source": [
        "<a href=\"https://colab.research.google.com/github/hamzaharmanhusni/Project-Dicoding/blob/main/Klasifikasi_gambar_Project_Dicoding_FINAL.ipynb\" target=\"_parent\"><img src=\"https://colab.research.google.com/assets/colab-badge.svg\" alt=\"Open In Colab\"/></a>"
      ]
    },
    {
      "cell_type": "markdown",
      "metadata": {
        "id": "bp57qDQoy0xn"
      },
      "source": [
        "Nama : Hamzah Arman Husni"
      ]
    },
    {
      "cell_type": "markdown",
      "metadata": {
        "id": "D8g-0tfjGzXU"
      },
      "source": [
        "# Unduh Data dari Kaggle"
      ]
    },
    {
      "cell_type": "code",
      "execution_count": null,
      "metadata": {
        "colab": {
          "base_uri": "https://localhost:8080/",
          "height": 90
        },
        "id": "UkYQW0rO3l7t",
        "outputId": "e119289f-45f8-4d26-d1e3-d138eadc1729"
      },
      "outputs": [
        {
          "output_type": "display_data",
          "data": {
            "text/plain": [
              "<IPython.core.display.HTML object>"
            ],
            "text/html": [
              "\n",
              "     <input type=\"file\" id=\"files-005358fe-71a5-42cb-8bd1-680dda55d2bb\" name=\"files[]\" multiple disabled\n",
              "        style=\"border:none\" />\n",
              "     <output id=\"result-005358fe-71a5-42cb-8bd1-680dda55d2bb\">\n",
              "      Upload widget is only available when the cell has been executed in the\n",
              "      current browser session. Please rerun this cell to enable.\n",
              "      </output>\n",
              "      <script>// Copyright 2017 Google LLC\n",
              "//\n",
              "// Licensed under the Apache License, Version 2.0 (the \"License\");\n",
              "// you may not use this file except in compliance with the License.\n",
              "// You may obtain a copy of the License at\n",
              "//\n",
              "//      http://www.apache.org/licenses/LICENSE-2.0\n",
              "//\n",
              "// Unless required by applicable law or agreed to in writing, software\n",
              "// distributed under the License is distributed on an \"AS IS\" BASIS,\n",
              "// WITHOUT WARRANTIES OR CONDITIONS OF ANY KIND, either express or implied.\n",
              "// See the License for the specific language governing permissions and\n",
              "// limitations under the License.\n",
              "\n",
              "/**\n",
              " * @fileoverview Helpers for google.colab Python module.\n",
              " */\n",
              "(function(scope) {\n",
              "function span(text, styleAttributes = {}) {\n",
              "  const element = document.createElement('span');\n",
              "  element.textContent = text;\n",
              "  for (const key of Object.keys(styleAttributes)) {\n",
              "    element.style[key] = styleAttributes[key];\n",
              "  }\n",
              "  return element;\n",
              "}\n",
              "\n",
              "// Max number of bytes which will be uploaded at a time.\n",
              "const MAX_PAYLOAD_SIZE = 100 * 1024;\n",
              "\n",
              "function _uploadFiles(inputId, outputId) {\n",
              "  const steps = uploadFilesStep(inputId, outputId);\n",
              "  const outputElement = document.getElementById(outputId);\n",
              "  // Cache steps on the outputElement to make it available for the next call\n",
              "  // to uploadFilesContinue from Python.\n",
              "  outputElement.steps = steps;\n",
              "\n",
              "  return _uploadFilesContinue(outputId);\n",
              "}\n",
              "\n",
              "// This is roughly an async generator (not supported in the browser yet),\n",
              "// where there are multiple asynchronous steps and the Python side is going\n",
              "// to poll for completion of each step.\n",
              "// This uses a Promise to block the python side on completion of each step,\n",
              "// then passes the result of the previous step as the input to the next step.\n",
              "function _uploadFilesContinue(outputId) {\n",
              "  const outputElement = document.getElementById(outputId);\n",
              "  const steps = outputElement.steps;\n",
              "\n",
              "  const next = steps.next(outputElement.lastPromiseValue);\n",
              "  return Promise.resolve(next.value.promise).then((value) => {\n",
              "    // Cache the last promise value to make it available to the next\n",
              "    // step of the generator.\n",
              "    outputElement.lastPromiseValue = value;\n",
              "    return next.value.response;\n",
              "  });\n",
              "}\n",
              "\n",
              "/**\n",
              " * Generator function which is called between each async step of the upload\n",
              " * process.\n",
              " * @param {string} inputId Element ID of the input file picker element.\n",
              " * @param {string} outputId Element ID of the output display.\n",
              " * @return {!Iterable<!Object>} Iterable of next steps.\n",
              " */\n",
              "function* uploadFilesStep(inputId, outputId) {\n",
              "  const inputElement = document.getElementById(inputId);\n",
              "  inputElement.disabled = false;\n",
              "\n",
              "  const outputElement = document.getElementById(outputId);\n",
              "  outputElement.innerHTML = '';\n",
              "\n",
              "  const pickedPromise = new Promise((resolve) => {\n",
              "    inputElement.addEventListener('change', (e) => {\n",
              "      resolve(e.target.files);\n",
              "    });\n",
              "  });\n",
              "\n",
              "  const cancel = document.createElement('button');\n",
              "  inputElement.parentElement.appendChild(cancel);\n",
              "  cancel.textContent = 'Cancel upload';\n",
              "  const cancelPromise = new Promise((resolve) => {\n",
              "    cancel.onclick = () => {\n",
              "      resolve(null);\n",
              "    };\n",
              "  });\n",
              "\n",
              "  // Wait for the user to pick the files.\n",
              "  const files = yield {\n",
              "    promise: Promise.race([pickedPromise, cancelPromise]),\n",
              "    response: {\n",
              "      action: 'starting',\n",
              "    }\n",
              "  };\n",
              "\n",
              "  cancel.remove();\n",
              "\n",
              "  // Disable the input element since further picks are not allowed.\n",
              "  inputElement.disabled = true;\n",
              "\n",
              "  if (!files) {\n",
              "    return {\n",
              "      response: {\n",
              "        action: 'complete',\n",
              "      }\n",
              "    };\n",
              "  }\n",
              "\n",
              "  for (const file of files) {\n",
              "    const li = document.createElement('li');\n",
              "    li.append(span(file.name, {fontWeight: 'bold'}));\n",
              "    li.append(span(\n",
              "        `(${file.type || 'n/a'}) - ${file.size} bytes, ` +\n",
              "        `last modified: ${\n",
              "            file.lastModifiedDate ? file.lastModifiedDate.toLocaleDateString() :\n",
              "                                    'n/a'} - `));\n",
              "    const percent = span('0% done');\n",
              "    li.appendChild(percent);\n",
              "\n",
              "    outputElement.appendChild(li);\n",
              "\n",
              "    const fileDataPromise = new Promise((resolve) => {\n",
              "      const reader = new FileReader();\n",
              "      reader.onload = (e) => {\n",
              "        resolve(e.target.result);\n",
              "      };\n",
              "      reader.readAsArrayBuffer(file);\n",
              "    });\n",
              "    // Wait for the data to be ready.\n",
              "    let fileData = yield {\n",
              "      promise: fileDataPromise,\n",
              "      response: {\n",
              "        action: 'continue',\n",
              "      }\n",
              "    };\n",
              "\n",
              "    // Use a chunked sending to avoid message size limits. See b/62115660.\n",
              "    let position = 0;\n",
              "    do {\n",
              "      const length = Math.min(fileData.byteLength - position, MAX_PAYLOAD_SIZE);\n",
              "      const chunk = new Uint8Array(fileData, position, length);\n",
              "      position += length;\n",
              "\n",
              "      const base64 = btoa(String.fromCharCode.apply(null, chunk));\n",
              "      yield {\n",
              "        response: {\n",
              "          action: 'append',\n",
              "          file: file.name,\n",
              "          data: base64,\n",
              "        },\n",
              "      };\n",
              "\n",
              "      let percentDone = fileData.byteLength === 0 ?\n",
              "          100 :\n",
              "          Math.round((position / fileData.byteLength) * 100);\n",
              "      percent.textContent = `${percentDone}% done`;\n",
              "\n",
              "    } while (position < fileData.byteLength);\n",
              "  }\n",
              "\n",
              "  // All done.\n",
              "  yield {\n",
              "    response: {\n",
              "      action: 'complete',\n",
              "    }\n",
              "  };\n",
              "}\n",
              "\n",
              "scope.google = scope.google || {};\n",
              "scope.google.colab = scope.google.colab || {};\n",
              "scope.google.colab._files = {\n",
              "  _uploadFiles,\n",
              "  _uploadFilesContinue,\n",
              "};\n",
              "})(self);\n",
              "</script> "
            ]
          },
          "metadata": {}
        },
        {
          "output_type": "stream",
          "name": "stdout",
          "text": [
            "Saving kaggle.json to kaggle.json\n"
          ]
        },
        {
          "output_type": "execute_result",
          "data": {
            "text/plain": [
              "{'kaggle.json': b'{\"username\":\"hamzaharmanhusni\",\"key\":\"c4d80967f856d7def87f1797b082acbf\"}'}"
            ]
          },
          "metadata": {},
          "execution_count": 1
        }
      ],
      "source": [
        "# upload kaggle.json\n",
        "from google.colab import files\n",
        "files.upload()"
      ]
    },
    {
      "cell_type": "code",
      "execution_count": null,
      "metadata": {
        "id": "jvlRV3b-3x5f"
      },
      "outputs": [],
      "source": [
        "# install dan konfigurasi kaggle API\n",
        "!pip install -q kaggle\n"
      ]
    },
    {
      "cell_type": "code",
      "execution_count": null,
      "metadata": {
        "id": "9XRvZ3Ok4lnU"
      },
      "outputs": [],
      "source": [
        "# Pindahkan file kaggle.json ke direktori .kaggle:\n",
        "!mkdir -p ~/.kaggle\n",
        "!cp kaggle.json ~/.kaggle/"
      ]
    },
    {
      "cell_type": "code",
      "execution_count": null,
      "metadata": {
        "id": "KqFG4FGD4svs"
      },
      "outputs": [],
      "source": [
        "# Berikan izin akses yang tepat ke file kaggle.json:\n",
        "!chmod 600 ~/.kaggle/kaggle.json\n"
      ]
    },
    {
      "cell_type": "code",
      "execution_count": null,
      "metadata": {
        "colab": {
          "base_uri": "https://localhost:8080/"
        },
        "id": "YrrIQlMF4yo-",
        "outputId": "de55f680-addc-4205-d570-687a398a14bb"
      },
      "outputs": [
        {
          "output_type": "stream",
          "name": "stdout",
          "text": [
            "Downloading animals.zip to /content\n",
            " 98% 860M/882M [00:12<00:00, 94.8MB/s]\n",
            "100% 882M/882M [00:12<00:00, 75.5MB/s]\n"
          ]
        }
      ],
      "source": [
        "!kaggle datasets download -d antobenedetti/animals"
      ]
    },
    {
      "cell_type": "code",
      "execution_count": null,
      "metadata": {
        "id": "lKndzUMi6zlO"
      },
      "outputs": [],
      "source": [
        "import zipfile\n",
        "\n",
        "# Unzip file yang telah di download\n",
        "nama_file_zip = 'animals.zip'\n",
        "zip_extractor = zipfile.ZipFile(nama_file_zip)\n",
        "zip_extractor.extractall()\n",
        "zip_extractor.close()"
      ]
    },
    {
      "cell_type": "code",
      "execution_count": null,
      "metadata": {
        "colab": {
          "base_uri": "https://localhost:8080/"
        },
        "id": "6teatsBY8Ktc",
        "outputId": "0d8e742d-f34d-464a-f257-76d13ded6c2d"
      },
      "outputs": [
        {
          "output_type": "stream",
          "name": "stdout",
          "text": [
            "inf  train  val\n"
          ]
        }
      ],
      "source": [
        "!ls animals"
      ]
    },
    {
      "cell_type": "code",
      "execution_count": null,
      "metadata": {
        "colab": {
          "base_uri": "https://localhost:8080/"
        },
        "id": "U_3tSXqQVrxb",
        "outputId": "e5a3ef12-01cb-41ed-8e06-95ddc52f89e9"
      },
      "outputs": [
        {
          "output_type": "stream",
          "name": "stdout",
          "text": [
            "Training and validation data have been combined into the folder animals_combined\n"
          ]
        }
      ],
      "source": [
        "# Combined the images in train data and validated data\n",
        "from PIL import Image\n",
        "import os\n",
        "import shutil\n",
        "\n",
        "import os\n",
        "import shutil\n",
        "\n",
        "def combine_datasets(train_dir, validation_dir, combined_dir):\n",
        "    # Make sure the combined directory exists, create it if not\n",
        "    if not os.path.exists(combined_dir):\n",
        "        os.makedirs(combined_dir)\n",
        "\n",
        "    # Loop through each category in the training directory\n",
        "    for category in os.listdir(train_dir):\n",
        "        train_category_dir = os.path.join(train_dir, category)\n",
        "        combined_category_dir = os.path.join(combined_dir, category)\n",
        "\n",
        "        # Make sure the category directory in the combined directory exists, create it if not\n",
        "        if not os.path.exists(combined_category_dir):\n",
        "            os.makedirs(combined_category_dir)\n",
        "\n",
        "        # Move files from the training directory to the combined directory\n",
        "        for filename in os.listdir(train_category_dir):\n",
        "            source_path = os.path.join(train_category_dir, filename)\n",
        "            destination_path = os.path.join(combined_category_dir, filename)\n",
        "            shutil.copy(source_path, destination_path)\n",
        "\n",
        "    # Loop through each category in the validation directory\n",
        "    for category in os.listdir(validation_dir):\n",
        "        validation_category_dir = os.path.join(validation_dir, category)\n",
        "        combined_category_dir = os.path.join(combined_dir, category)\n",
        "\n",
        "        # Make sure the category directory in the combined directory exists, create it if not\n",
        "        if not os.path.exists(combined_category_dir):\n",
        "            os.makedirs(combined_category_dir)\n",
        "\n",
        "        # Move files from the validation directory to the combined directory\n",
        "        for filename in os.listdir(validation_category_dir):\n",
        "            source_path = os.path.join(validation_category_dir, filename)\n",
        "            destination_path = os.path.join(combined_category_dir, filename)\n",
        "            shutil.copy(source_path, destination_path)\n",
        "\n",
        "    print(\"Training and validation data have been combined into the folder\", combined_dir)\n",
        "\n",
        "# Contoh penggunaan\n",
        "train_dir = 'animals/train'\n",
        "validation_dir = 'animals/val'\n",
        "combined_dir = 'animals_combined'\n",
        "\n",
        "combine_datasets(train_dir, validation_dir, combined_dir)\n",
        "\n",
        "\n"
      ]
    },
    {
      "cell_type": "code",
      "execution_count": null,
      "metadata": {
        "colab": {
          "base_uri": "https://localhost:8080/"
        },
        "id": "sUmt_tWQ-enE",
        "outputId": "1b51df14-7976-48e3-9334-ab48563e4052"
      },
      "outputs": [
        {
          "output_type": "execute_result",
          "data": {
            "text/plain": [
              "['cat', 'dog', 'lion', 'elephant', 'horse']"
            ]
          },
          "metadata": {},
          "execution_count": 9
        }
      ],
      "source": [
        "import os\n",
        "animal_types = os.listdir('animals_combined')\n",
        "animal_types"
      ]
    },
    {
      "cell_type": "code",
      "execution_count": null,
      "metadata": {
        "colab": {
          "base_uri": "https://localhost:8080/"
        },
        "id": "ZkMnc5fd8jwQ",
        "outputId": "c16bdf07-b15e-43af-c17e-c6a3a6e0f811"
      },
      "outputs": [
        {
          "output_type": "stream",
          "name": "stdout",
          "text": [
            "There are 5 directories and 0 images in 'animals_combined'.\n",
            "There are 0 directories and 2737 images in 'animals_combined/cat'.\n",
            "There are 0 directories and 2627 images in 'animals_combined/dog'.\n",
            "There are 0 directories and 2678 images in 'animals_combined/lion'.\n",
            "There are 0 directories and 2732 images in 'animals_combined/elephant'.\n",
            "There are 0 directories and 2951 images in 'animals_combined/horse'.\n"
          ]
        }
      ],
      "source": [
        "import os\n",
        "\n",
        "# Walk through pizza_steak directory and list number of files\n",
        "for dirpath, dirnames, filenames in os.walk(\"animals_combined\"):\n",
        "  print(f\"There are {len(dirnames)} directories and {len(filenames)} images in '{dirpath}'.\")"
      ]
    },
    {
      "cell_type": "markdown",
      "metadata": {
        "id": "DqGVah9xG5lI"
      },
      "source": [
        "# Preprocessing"
      ]
    },
    {
      "cell_type": "code",
      "execution_count": null,
      "metadata": {
        "id": "hHZOU9dv-x0d"
      },
      "outputs": [],
      "source": [
        "import os\n",
        "import random\n",
        "import matplotlib.pyplot as plt\n",
        "import matplotlib.image as mpimg\n",
        "\n",
        "def view_random_image(target_dir, available_classes):\n",
        "    # Choose a random class from the available classes\n",
        "    random_class = random.choice(available_classes)\n",
        "\n",
        "    # Setup target directory for the randomly chosen class\n",
        "    target_folder = os.path.join(target_dir, random_class)\n",
        "\n",
        "    # Get a random image path from the chosen class\n",
        "    random_image = random.choice(os.listdir(target_folder))\n",
        "\n",
        "    # Read in the image and plot it using matplotlib\n",
        "    img_path = os.path.join(target_folder, random_image)\n",
        "    img = mpimg.imread(img_path)\n",
        "    plt.imshow(img)\n",
        "    plt.title(random_class)\n",
        "    plt.axis('off')\n",
        "    print(f\"Image shape: {img.shape}\")\n",
        "\n",
        "    return img\n",
        "\n",
        "\n"
      ]
    },
    {
      "cell_type": "code",
      "execution_count": null,
      "metadata": {
        "colab": {
          "base_uri": "https://localhost:8080/",
          "height": 445
        },
        "id": "WCNcwRnZAHHw",
        "outputId": "f206542e-0120-4b3a-855b-6f4030ed30f8"
      },
      "outputs": [
        {
          "output_type": "stream",
          "name": "stdout",
          "text": [
            "Image shape: (64, 64, 3)\n"
          ]
        },
        {
          "output_type": "display_data",
          "data": {
            "text/plain": [
              "<Figure size 640x480 with 1 Axes>"
            ],
            "image/png": "[encoded data removed]"
          },
          "metadata": {}
        }
      ],
      "source": [
        "# Specify the target directory and available classes\n",
        "target_directory = \"animals_combined\"\n",
        "available_classes = os.listdir(target_directory)\n",
        "\n",
        "# View a random image from the dataset\n",
        "img = view_random_image(target_dir=target_directory, available_classes=available_classes)\n",
        "plt.show()\n",
        "\n"
      ]
    },
    {
      "cell_type": "code",
      "execution_count": null,
      "metadata": {
        "colab": {
          "base_uri": "https://localhost:8080/"
        },
        "id": "N0lkEx6gBPSm",
        "outputId": "a9e342cd-8722-4ff4-fdb9-01e4fdb5dd32"
      },
      "outputs": [
        {
          "output_type": "stream",
          "name": "stdout",
          "text": [
            "cat: 2737\n",
            "- (512, 512)\n",
            "- (512, 512)\n",
            "- (512, 512)\n",
            "- (512, 512)\n",
            "---------------\n",
            "dog: 2627\n",
            "- (512, 512)\n",
            "- (512, 512)\n",
            "- (512, 512)\n",
            "- (512, 512)\n",
            "---------------\n",
            "lion: 2678\n",
            "- (64, 64)\n",
            "- (275, 183)\n",
            "- (100, 100)\n",
            "- (64, 64)\n",
            "---------------\n",
            "elephant: 2732\n",
            "- (183, 275)\n",
            "- (64, 64)\n",
            "- (64, 64)\n",
            "- (64, 64)\n",
            "---------------\n",
            "horse: 2951\n",
            "- (301, 167)\n",
            "- (64, 64)\n",
            "- (64, 64)\n",
            "- (500, 417)\n",
            "---------------\n",
            "\n",
            "Total : 13725\n"
          ]
        }
      ],
      "source": [
        "# Melihat ukuran dari gambar\n",
        "import os\n",
        "\n",
        "animal_types = os.path.join('animals_combined')\n",
        "list_animal_types = os.listdir(animal_types)\n",
        "\n",
        "from PIL import Image\n",
        "total = 0\n",
        "\n",
        "for x in list_animal_types:\n",
        "  dir = os.path.join(animal_types, x)\n",
        "  y = len(os.listdir(dir))\n",
        "  print(x+':', y)\n",
        "  total = total + y\n",
        "\n",
        "  img_name = os.listdir(dir)\n",
        "  for z in range(4):\n",
        "    img_path = os.path.join(dir, img_name[z])\n",
        "    img = Image.open(img_path)\n",
        "    print('-',img.size)\n",
        "  print('---------------')\n",
        "\n",
        "print('\\nTotal :', total)"
      ]
    },
    {
      "cell_type": "code",
      "execution_count": null,
      "metadata": {
        "colab": {
          "base_uri": "https://localhost:8080/"
        },
        "id": "Z9F-m3px2OBc",
        "outputId": "0275d9c6-afd1-4f62-a929-33d66fba71e4"
      },
      "outputs": [
        {
          "output_type": "stream",
          "name": "stdout",
          "text": [
            "Total files with MIME type image/jpeg: 13469\n",
            "Total files with MIME type image/png: 256\n"
          ]
        }
      ],
      "source": [
        "import os\n",
        "import mimetypes\n",
        "\n",
        "def count_file_types(directory_path):\n",
        "    file_count = {}\n",
        "\n",
        "    # Loop through each file in the directory\n",
        "    for root, dirs, files in os.walk(directory_path):\n",
        "        for file in files:\n",
        "            file_path = os.path.join(root, file)\n",
        "\n",
        "            # Get the MIME type of the file\n",
        "            mime_type, _ = mimetypes.guess_type(file_path)\n",
        "\n",
        "            # Use the MIME type as the key in the dictionary\n",
        "            if mime_type in file_count:\n",
        "                file_count[mime_type] += 1\n",
        "            else:\n",
        "                file_count[mime_type] = 1\n",
        "\n",
        "    return file_count\n",
        "\n",
        "# Example usage\n",
        "directory_path = \"animals_combined\"\n",
        "result = count_file_types(directory_path)\n",
        "\n",
        "# Print the result\n",
        "for mime_type, count in result.items():\n",
        "    print(f\"Total files with MIME type {mime_type}: {count}\")"
      ]
    },
    {
      "cell_type": "code",
      "execution_count": null,
      "metadata": {
        "id": "Fg49RL3e2Syf",
        "colab": {
          "base_uri": "https://localhost:8080/"
        },
        "outputId": "552bc790-8a07-40ee-d2c3-90dfe1b468f5"
      },
      "outputs": [
        {
          "output_type": "stream",
          "name": "stdout",
          "text": [
            "Conversion successful: animals_combined/lion/lion1434.png to animals_combined/lion/lion1434.jpeg\n",
            "Conversion successful: animals_combined/lion/lion2674.png to animals_combined/lion/lion2674.jpeg\n",
            "Conversion successful: animals_combined/elephant/elephant2732.png to animals_combined/elephant/elephant2732.jpeg\n",
            "Conversion successful: animals_combined/elephant/elephant1993.png to animals_combined/elephant/elephant1993.jpeg\n",
            "Conversion successful: animals_combined/elephant/elephant1995.png to animals_combined/elephant/elephant1995.jpeg\n",
            "Conversion successful: animals_combined/elephant/elephant1991.png to animals_combined/elephant/elephant1991.jpeg\n",
            "Conversion successful: animals_combined/elephant/elephant1981.png to animals_combined/elephant/elephant1981.jpeg\n",
            "Conversion successful: animals_combined/horse/horse94.png to animals_combined/horse/horse94.jpeg\n",
            "Conversion successful: animals_combined/horse/horse195.png to animals_combined/horse/horse195.jpeg\n",
            "Conversion successful: animals_combined/horse/horse234.png to animals_combined/horse/horse234.jpeg\n",
            "Conversion successful: animals_combined/horse/horse51.png to animals_combined/horse/horse51.jpeg\n",
            "Conversion successful: animals_combined/horse/horse186.png to animals_combined/horse/horse186.jpeg\n",
            "Conversion successful: animals_combined/horse/horse169.png to animals_combined/horse/horse169.jpeg\n",
            "Conversion successful: animals_combined/horse/horse214.png to animals_combined/horse/horse214.jpeg\n",
            "Conversion successful: animals_combined/horse/horse79.png to animals_combined/horse/horse79.jpeg\n",
            "Conversion successful: animals_combined/horse/horse238.png to animals_combined/horse/horse238.jpeg\n",
            "Conversion successful: animals_combined/horse/horse213.png to animals_combined/horse/horse213.jpeg\n",
            "Conversion successful: animals_combined/horse/horse44.png to animals_combined/horse/horse44.jpeg\n",
            "Conversion successful: animals_combined/horse/horse43.png to animals_combined/horse/horse43.jpeg\n",
            "Conversion successful: animals_combined/horse/horse7.png to animals_combined/horse/horse7.jpeg\n",
            "Conversion successful: animals_combined/horse/horse81.png to animals_combined/horse/horse81.jpeg\n",
            "Conversion successful: animals_combined/horse/horse72.png to animals_combined/horse/horse72.jpeg\n",
            "Conversion successful: animals_combined/horse/horse219.png to animals_combined/horse/horse219.jpeg\n",
            "Conversion successful: animals_combined/horse/horse207.png to animals_combined/horse/horse207.jpeg\n",
            "Conversion successful: animals_combined/horse/horse138.png to animals_combined/horse/horse138.jpeg\n",
            "Conversion successful: animals_combined/horse/horse143.png to animals_combined/horse/horse143.jpeg\n",
            "Conversion successful: animals_combined/horse/horse191.png to animals_combined/horse/horse191.jpeg\n",
            "Conversion successful: animals_combined/horse/horse226.png to animals_combined/horse/horse226.jpeg\n",
            "Conversion successful: animals_combined/horse/horse61.png to animals_combined/horse/horse61.jpeg\n",
            "Conversion successful: animals_combined/horse/horse146.png to animals_combined/horse/horse146.jpeg\n",
            "Conversion successful: animals_combined/horse/horse124.png to animals_combined/horse/horse124.jpeg\n",
            "Conversion successful: animals_combined/horse/horse164.png to animals_combined/horse/horse164.jpeg\n",
            "Conversion successful: animals_combined/horse/horse158.png to animals_combined/horse/horse158.jpeg\n",
            "Conversion successful: animals_combined/horse/horse163.png to animals_combined/horse/horse163.jpeg\n",
            "Conversion successful: animals_combined/horse/horse84.png to animals_combined/horse/horse84.jpeg\n",
            "Conversion successful: animals_combined/horse/horse70.png to animals_combined/horse/horse70.jpeg\n",
            "Conversion successful: animals_combined/horse/horse210.png to animals_combined/horse/horse210.jpeg\n",
            "Conversion successful: animals_combined/horse/horse21.png to animals_combined/horse/horse21.jpeg\n",
            "Conversion successful: animals_combined/horse/horse168.png to animals_combined/horse/horse168.jpeg\n",
            "Conversion successful: animals_combined/horse/horse197.png to animals_combined/horse/horse197.jpeg\n",
            "Conversion successful: animals_combined/horse/horse38.png to animals_combined/horse/horse38.jpeg\n",
            "Conversion successful: animals_combined/horse/horse39.png to animals_combined/horse/horse39.jpeg\n",
            "Conversion successful: animals_combined/horse/horse20.png to animals_combined/horse/horse20.jpeg\n",
            "Conversion successful: animals_combined/horse/horse35.png to animals_combined/horse/horse35.jpeg\n",
            "Conversion successful: animals_combined/horse/horse212.png to animals_combined/horse/horse212.jpeg\n",
            "Conversion successful: animals_combined/horse/horse211.png to animals_combined/horse/horse211.jpeg\n",
            "Conversion successful: animals_combined/horse/horse152.png to animals_combined/horse/horse152.jpeg\n",
            "Conversion successful: animals_combined/horse/horse59.png to animals_combined/horse/horse59.jpeg\n",
            "Conversion successful: animals_combined/horse/horse230.png to animals_combined/horse/horse230.jpeg\n",
            "Conversion successful: animals_combined/horse/horse231.png to animals_combined/horse/horse231.jpeg\n",
            "Conversion successful: animals_combined/horse/horse62.png to animals_combined/horse/horse62.jpeg\n",
            "Conversion successful: animals_combined/horse/horse153.png to animals_combined/horse/horse153.jpeg\n",
            "Conversion successful: animals_combined/horse/horse151.png to animals_combined/horse/horse151.jpeg\n",
            "Conversion successful: animals_combined/horse/horse233.png to animals_combined/horse/horse233.jpeg\n",
            "Conversion successful: animals_combined/horse/horse86.png to animals_combined/horse/horse86.jpeg\n",
            "Conversion successful: animals_combined/horse/horse69.png to animals_combined/horse/horse69.jpeg\n",
            "Conversion successful: animals_combined/horse/horse3.png to animals_combined/horse/horse3.jpeg\n",
            "Conversion successful: animals_combined/horse/horse185.png to animals_combined/horse/horse185.jpeg\n",
            "Conversion successful: animals_combined/horse/horse68.png to animals_combined/horse/horse68.jpeg\n",
            "Conversion successful: animals_combined/horse/horse147.png to animals_combined/horse/horse147.jpeg\n",
            "Conversion successful: animals_combined/horse/horse2.png to animals_combined/horse/horse2.jpeg\n",
            "Conversion successful: animals_combined/horse/horse83.png to animals_combined/horse/horse83.jpeg\n",
            "Conversion successful: animals_combined/horse/horse216.png to animals_combined/horse/horse216.jpeg\n",
            "Conversion successful: animals_combined/horse/horse13.png to animals_combined/horse/horse13.jpeg\n",
            "Conversion successful: animals_combined/horse/horse74.png to animals_combined/horse/horse74.jpeg\n",
            "Conversion successful: animals_combined/horse/horse15.png to animals_combined/horse/horse15.jpeg\n",
            "Conversion successful: animals_combined/horse/horse58.png to animals_combined/horse/horse58.jpeg\n",
            "Conversion successful: animals_combined/horse/horse251.png to animals_combined/horse/horse251.jpeg\n",
            "Conversion successful: animals_combined/horse/horse71.png to animals_combined/horse/horse71.jpeg\n",
            "Conversion successful: animals_combined/horse/horse22.png to animals_combined/horse/horse22.jpeg\n",
            "Conversion successful: animals_combined/horse/horse252.png to animals_combined/horse/horse252.jpeg\n",
            "Conversion successful: animals_combined/horse/horse232.png to animals_combined/horse/horse232.jpeg\n",
            "Conversion successful: animals_combined/horse/horse52.png to animals_combined/horse/horse52.jpeg\n",
            "Conversion successful: animals_combined/horse/horse203.png to animals_combined/horse/horse203.jpeg\n",
            "Conversion successful: animals_combined/horse/horse145.png to animals_combined/horse/horse145.jpeg\n",
            "Conversion successful: animals_combined/horse/horse228.png to animals_combined/horse/horse228.jpeg\n",
            "Conversion successful: animals_combined/horse/horse205.png to animals_combined/horse/horse205.jpeg\n",
            "Conversion successful: animals_combined/horse/horse222.png to animals_combined/horse/horse222.jpeg\n",
            "Conversion successful: animals_combined/horse/horse47.png to animals_combined/horse/horse47.jpeg\n",
            "Conversion successful: animals_combined/horse/horse60.png to animals_combined/horse/horse60.jpeg\n",
            "Conversion successful: animals_combined/horse/horse99.png to animals_combined/horse/horse99.jpeg\n",
            "Conversion successful: animals_combined/horse/horse107.png to animals_combined/horse/horse107.jpeg\n",
            "Conversion successful: animals_combined/horse/horse208.png to animals_combined/horse/horse208.jpeg\n",
            "Conversion successful: animals_combined/horse/horse45.png to animals_combined/horse/horse45.jpeg\n",
            "Conversion successful: animals_combined/horse/horse192.png to animals_combined/horse/horse192.jpeg\n",
            "Conversion successful: animals_combined/horse/horse115.png to animals_combined/horse/horse115.jpeg\n",
            "Conversion successful: animals_combined/horse/horse14.png to animals_combined/horse/horse14.jpeg\n",
            "Conversion successful: animals_combined/horse/horse220.png to animals_combined/horse/horse220.jpeg\n",
            "Conversion successful: animals_combined/horse/horse111.png to animals_combined/horse/horse111.jpeg\n",
            "Conversion successful: animals_combined/horse/horse247.png to animals_combined/horse/horse247.jpeg\n",
            "Conversion successful: animals_combined/horse/horse11.png to animals_combined/horse/horse11.jpeg\n",
            "Conversion successful: animals_combined/horse/horse32.png to animals_combined/horse/horse32.jpeg\n",
            "Conversion successful: animals_combined/horse/horse196.png to animals_combined/horse/horse196.jpeg\n",
            "Conversion successful: animals_combined/horse/horse95.png to animals_combined/horse/horse95.jpeg\n",
            "Conversion successful: animals_combined/horse/horse73.png to animals_combined/horse/horse73.jpeg\n",
            "Conversion successful: animals_combined/horse/horse87.png to animals_combined/horse/horse87.jpeg\n",
            "Conversion successful: animals_combined/horse/horse101.png to animals_combined/horse/horse101.jpeg\n",
            "Conversion successful: animals_combined/horse/horse109.png to animals_combined/horse/horse109.jpeg\n",
            "Conversion successful: animals_combined/horse/horse132.png to animals_combined/horse/horse132.jpeg\n",
            "Conversion successful: animals_combined/horse/horse201.png to animals_combined/horse/horse201.jpeg\n",
            "Conversion successful: animals_combined/horse/horse98.png to animals_combined/horse/horse98.jpeg\n",
            "Conversion successful: animals_combined/horse/horse16.png to animals_combined/horse/horse16.jpeg\n",
            "Conversion successful: animals_combined/horse/horse113.png to animals_combined/horse/horse113.jpeg\n",
            "Conversion successful: animals_combined/horse/horse89.png to animals_combined/horse/horse89.jpeg\n",
            "Conversion successful: animals_combined/horse/horse105.png to animals_combined/horse/horse105.jpeg\n",
            "Conversion successful: animals_combined/horse/horse121.png to animals_combined/horse/horse121.jpeg\n",
            "Conversion successful: animals_combined/horse/horse8.png to animals_combined/horse/horse8.jpeg\n",
            "Conversion successful: animals_combined/horse/horse64.png to animals_combined/horse/horse64.jpeg\n",
            "Conversion successful: animals_combined/horse/horse140.png to animals_combined/horse/horse140.jpeg\n",
            "Conversion successful: animals_combined/horse/horse162.png to animals_combined/horse/horse162.jpeg\n",
            "Conversion successful: animals_combined/horse/horse102.png to animals_combined/horse/horse102.jpeg\n",
            "Conversion successful: animals_combined/horse/horse144.png to animals_combined/horse/horse144.jpeg\n",
            "Conversion successful: animals_combined/horse/horse181.png to animals_combined/horse/horse181.jpeg\n",
            "Conversion successful: animals_combined/horse/horse63.png to animals_combined/horse/horse63.jpeg\n",
            "Conversion successful: animals_combined/horse/horse30.png to animals_combined/horse/horse30.jpeg\n",
            "Conversion successful: animals_combined/horse/horse188.png to animals_combined/horse/horse188.jpeg\n",
            "Conversion successful: animals_combined/horse/horse160.png to animals_combined/horse/horse160.jpeg\n",
            "Conversion successful: animals_combined/horse/horse77.png to animals_combined/horse/horse77.jpeg\n",
            "Conversion successful: animals_combined/horse/horse55.png to animals_combined/horse/horse55.jpeg\n",
            "Conversion successful: animals_combined/horse/horse65.png to animals_combined/horse/horse65.jpeg\n",
            "Conversion successful: animals_combined/horse/horse142.png to animals_combined/horse/horse142.jpeg\n",
            "Conversion successful: animals_combined/horse/horse187.png to animals_combined/horse/horse187.jpeg\n",
            "Conversion successful: animals_combined/horse/horse106.png to animals_combined/horse/horse106.jpeg\n",
            "Conversion successful: animals_combined/horse/horse80.png to animals_combined/horse/horse80.jpeg\n",
            "Conversion successful: animals_combined/horse/horse46.png to animals_combined/horse/horse46.jpeg\n",
            "Conversion successful: animals_combined/horse/horse56.png to animals_combined/horse/horse56.jpeg\n",
            "Conversion successful: animals_combined/horse/horse199.png to animals_combined/horse/horse199.jpeg\n",
            "Conversion successful: animals_combined/horse/horse40.png to animals_combined/horse/horse40.jpeg\n",
            "Conversion successful: animals_combined/horse/horse6.png to animals_combined/horse/horse6.jpeg\n",
            "Conversion successful: animals_combined/horse/horse116.png to animals_combined/horse/horse116.jpeg\n",
            "Conversion successful: animals_combined/horse/horse202.png to animals_combined/horse/horse202.jpeg\n",
            "Conversion successful: animals_combined/horse/horse224.png to animals_combined/horse/horse224.jpeg\n",
            "Conversion successful: animals_combined/horse/horse137.png to animals_combined/horse/horse137.jpeg\n",
            "Conversion successful: animals_combined/horse/horse100.png to animals_combined/horse/horse100.jpeg\n",
            "Conversion successful: animals_combined/horse/horse215.png to animals_combined/horse/horse215.jpeg\n",
            "Conversion successful: animals_combined/horse/horse190.png to animals_combined/horse/horse190.jpeg\n",
            "Conversion successful: animals_combined/horse/horse249.png to animals_combined/horse/horse249.jpeg\n",
            "Conversion successful: animals_combined/horse/horse67.png to animals_combined/horse/horse67.jpeg\n",
            "Conversion successful: animals_combined/horse/horse250.png to animals_combined/horse/horse250.jpeg\n",
            "Conversion successful: animals_combined/horse/horse122.png to animals_combined/horse/horse122.jpeg\n",
            "Conversion successful: animals_combined/horse/horse104.png to animals_combined/horse/horse104.jpeg\n",
            "Conversion successful: animals_combined/horse/horse193.png to animals_combined/horse/horse193.jpeg\n",
            "Conversion successful: animals_combined/horse/horse10.png to animals_combined/horse/horse10.jpeg\n",
            "Conversion successful: animals_combined/horse/horse150.png to animals_combined/horse/horse150.jpeg\n",
            "Conversion successful: animals_combined/horse/horse23.png to animals_combined/horse/horse23.jpeg\n",
            "Conversion successful: animals_combined/horse/horse243.png to animals_combined/horse/horse243.jpeg\n",
            "Conversion successful: animals_combined/horse/horse157.png to animals_combined/horse/horse157.jpeg\n",
            "Conversion successful: animals_combined/horse/horse149.png to animals_combined/horse/horse149.jpeg\n",
            "Conversion successful: animals_combined/horse/horse90.png to animals_combined/horse/horse90.jpeg\n",
            "Conversion successful: animals_combined/horse/horse31.png to animals_combined/horse/horse31.jpeg\n",
            "Conversion successful: animals_combined/horse/horse2039.png to animals_combined/horse/horse2039.jpeg\n",
            "Conversion successful: animals_combined/horse/horse50.png to animals_combined/horse/horse50.jpeg\n",
            "Conversion successful: animals_combined/horse/horse166.png to animals_combined/horse/horse166.jpeg\n",
            "Conversion successful: animals_combined/horse/horse241.png to animals_combined/horse/horse241.jpeg\n",
            "Conversion successful: animals_combined/horse/horse248.png to animals_combined/horse/horse248.jpeg\n",
            "Conversion successful: animals_combined/horse/horse236.png to animals_combined/horse/horse236.jpeg\n",
            "Conversion successful: animals_combined/horse/horse24.png to animals_combined/horse/horse24.jpeg\n",
            "Conversion successful: animals_combined/horse/horse93.png to animals_combined/horse/horse93.jpeg\n",
            "Conversion successful: animals_combined/horse/horse85.png to animals_combined/horse/horse85.jpeg\n",
            "Conversion successful: animals_combined/horse/horse221.png to animals_combined/horse/horse221.jpeg\n",
            "Conversion successful: animals_combined/horse/horse209.png to animals_combined/horse/horse209.jpeg\n",
            "Conversion successful: animals_combined/horse/horse180.png to animals_combined/horse/horse180.jpeg\n",
            "Conversion successful: animals_combined/horse/horse33.png to animals_combined/horse/horse33.jpeg\n",
            "Conversion successful: animals_combined/horse/horse92.png to animals_combined/horse/horse92.jpeg\n",
            "Conversion successful: animals_combined/horse/horse246.png to animals_combined/horse/horse246.jpeg\n",
            "Conversion successful: animals_combined/horse/horse117.png to animals_combined/horse/horse117.jpeg\n",
            "Conversion successful: animals_combined/horse/horse48.png to animals_combined/horse/horse48.jpeg\n",
            "Conversion successful: animals_combined/horse/horse18.png to animals_combined/horse/horse18.jpeg\n",
            "Conversion successful: animals_combined/horse/horse182.png to animals_combined/horse/horse182.jpeg\n",
            "Conversion successful: animals_combined/horse/horse179.png to animals_combined/horse/horse179.jpeg\n",
            "Conversion successful: animals_combined/horse/horse135.png to animals_combined/horse/horse135.jpeg\n",
            "Conversion successful: animals_combined/horse/horse245.png to animals_combined/horse/horse245.jpeg\n",
            "Conversion successful: animals_combined/horse/horse54.png to animals_combined/horse/horse54.jpeg\n",
            "Conversion successful: animals_combined/horse/horse183.png to animals_combined/horse/horse183.jpeg\n",
            "Conversion successful: animals_combined/horse/horse237.png to animals_combined/horse/horse237.jpeg\n",
            "Conversion successful: animals_combined/horse/horse2059.png to animals_combined/horse/horse2059.jpeg\n",
            "Conversion successful: animals_combined/horse/horse108.png to animals_combined/horse/horse108.jpeg\n",
            "Conversion successful: animals_combined/horse/horse120.png to animals_combined/horse/horse120.jpeg\n",
            "Conversion successful: animals_combined/horse/horse78.png to animals_combined/horse/horse78.jpeg\n",
            "Conversion successful: animals_combined/horse/horse12.png to animals_combined/horse/horse12.jpeg\n",
            "Conversion successful: animals_combined/horse/horse172.png to animals_combined/horse/horse172.jpeg\n",
            "Conversion successful: animals_combined/horse/horse136.png to animals_combined/horse/horse136.jpeg\n",
            "Conversion successful: animals_combined/horse/horse66.png to animals_combined/horse/horse66.jpeg\n",
            "Conversion successful: animals_combined/horse/horse27.png to animals_combined/horse/horse27.jpeg\n",
            "Conversion successful: animals_combined/horse/horse171.png to animals_combined/horse/horse171.jpeg\n",
            "Conversion successful: animals_combined/horse/horse127.png to animals_combined/horse/horse127.jpeg\n",
            "Conversion successful: animals_combined/horse/horse28.png to animals_combined/horse/horse28.jpeg\n",
            "Conversion successful: animals_combined/horse/horse129.png to animals_combined/horse/horse129.jpeg\n",
            "Conversion successful: animals_combined/horse/horse49.png to animals_combined/horse/horse49.jpeg\n",
            "Conversion successful: animals_combined/horse/horse225.png to animals_combined/horse/horse225.jpeg\n",
            "Conversion successful: animals_combined/horse/horse131.png to animals_combined/horse/horse131.jpeg\n",
            "Conversion successful: animals_combined/horse/horse26.png to animals_combined/horse/horse26.jpeg\n",
            "Conversion successful: animals_combined/horse/horse96.png to animals_combined/horse/horse96.jpeg\n",
            "Conversion successful: animals_combined/horse/horse218.png to animals_combined/horse/horse218.jpeg\n",
            "Conversion successful: animals_combined/horse/horse112.png to animals_combined/horse/horse112.jpeg\n",
            "Conversion successful: animals_combined/horse/horse229.png to animals_combined/horse/horse229.jpeg\n",
            "Conversion successful: animals_combined/horse/horse88.png to animals_combined/horse/horse88.jpeg\n",
            "Conversion successful: animals_combined/horse/horse170.png to animals_combined/horse/horse170.jpeg\n",
            "Conversion successful: animals_combined/horse/horse239.png to animals_combined/horse/horse239.jpeg\n",
            "Conversion successful: animals_combined/horse/horse134.png to animals_combined/horse/horse134.jpeg\n",
            "Conversion successful: animals_combined/horse/horse141.png to animals_combined/horse/horse141.jpeg\n",
            "Conversion successful: animals_combined/horse/horse37.png to animals_combined/horse/horse37.jpeg\n",
            "Conversion successful: animals_combined/horse/horse148.png to animals_combined/horse/horse148.jpeg\n",
            "Conversion successful: animals_combined/horse/horse34.png to animals_combined/horse/horse34.jpeg\n",
            "Conversion successful: animals_combined/horse/horse17.png to animals_combined/horse/horse17.jpeg\n",
            "Conversion successful: animals_combined/horse/horse139.png to animals_combined/horse/horse139.jpeg\n",
            "Conversion successful: animals_combined/horse/horse184.png to animals_combined/horse/horse184.jpeg\n",
            "Conversion successful: animals_combined/horse/horse118.png to animals_combined/horse/horse118.jpeg\n",
            "Conversion successful: animals_combined/horse/horse114.png to animals_combined/horse/horse114.jpeg\n",
            "Conversion successful: animals_combined/horse/horse75.png to animals_combined/horse/horse75.jpeg\n",
            "Conversion successful: animals_combined/horse/horse123.png to animals_combined/horse/horse123.jpeg\n",
            "Conversion successful: animals_combined/horse/horse217.png to animals_combined/horse/horse217.jpeg\n",
            "Conversion successful: animals_combined/horse/horse41.png to animals_combined/horse/horse41.jpeg\n",
            "Conversion successful: animals_combined/horse/horse173.png to animals_combined/horse/horse173.jpeg\n",
            "Conversion successful: animals_combined/horse/horse130.png to animals_combined/horse/horse130.jpeg\n",
            "Conversion successful: animals_combined/horse/horse57.png to animals_combined/horse/horse57.jpeg\n",
            "Conversion successful: animals_combined/horse/horse4.png to animals_combined/horse/horse4.jpeg\n",
            "Conversion successful: animals_combined/horse/horse5.png to animals_combined/horse/horse5.jpeg\n",
            "Conversion successful: animals_combined/horse/horse119.png to animals_combined/horse/horse119.jpeg\n",
            "Conversion successful: animals_combined/horse/horse133.png to animals_combined/horse/horse133.jpeg\n",
            "Conversion successful: animals_combined/horse/horse9.png to animals_combined/horse/horse9.jpeg\n",
            "Conversion successful: animals_combined/horse/horse223.png to animals_combined/horse/horse223.jpeg\n",
            "Conversion successful: animals_combined/horse/horse156.png to animals_combined/horse/horse156.jpeg\n",
            "Conversion successful: animals_combined/horse/horse204.png to animals_combined/horse/horse204.jpeg\n",
            "Conversion successful: animals_combined/horse/horse161.png to animals_combined/horse/horse161.jpeg\n",
            "Conversion successful: animals_combined/horse/horse76.png to animals_combined/horse/horse76.jpeg\n",
            "Conversion successful: animals_combined/horse/horse178.png to animals_combined/horse/horse178.jpeg\n",
            "Conversion successful: animals_combined/horse/horse29.png to animals_combined/horse/horse29.jpeg\n",
            "Conversion successful: animals_combined/horse/horse235.png to animals_combined/horse/horse235.jpeg\n",
            "Conversion successful: animals_combined/horse/horse82.png to animals_combined/horse/horse82.jpeg\n",
            "Conversion successful: animals_combined/horse/horse42.png to animals_combined/horse/horse42.jpeg\n",
            "Conversion successful: animals_combined/horse/horse189.png to animals_combined/horse/horse189.jpeg\n",
            "Conversion successful: animals_combined/horse/horse1.png to animals_combined/horse/horse1.jpeg\n",
            "Conversion successful: animals_combined/horse/horse159.png to animals_combined/horse/horse159.jpeg\n",
            "Conversion successful: animals_combined/horse/horse25.png to animals_combined/horse/horse25.jpeg\n",
            "Conversion successful: animals_combined/horse/horse242.png to animals_combined/horse/horse242.jpeg\n",
            "Conversion successful: animals_combined/horse/horse91.png to animals_combined/horse/horse91.jpeg\n",
            "Conversion successful: animals_combined/horse/horse128.png to animals_combined/horse/horse128.jpeg\n",
            "Conversion successful: animals_combined/horse/horse19.png to animals_combined/horse/horse19.jpeg\n",
            "Conversion successful: animals_combined/horse/horse198.png to animals_combined/horse/horse198.jpeg\n",
            "Conversion successful: animals_combined/horse/horse227.png to animals_combined/horse/horse227.jpeg\n",
            "Conversion successful: animals_combined/horse/horse126.png to animals_combined/horse/horse126.jpeg\n",
            "Conversion successful: animals_combined/horse/horse103.png to animals_combined/horse/horse103.jpeg\n",
            "Conversion successful: animals_combined/horse/horse194.png to animals_combined/horse/horse194.jpeg\n",
            "Conversion successful: animals_combined/horse/horse206.png to animals_combined/horse/horse206.jpeg\n",
            "Conversion successful: animals_combined/horse/horse125.png to animals_combined/horse/horse125.jpeg\n",
            "Conversion successful: animals_combined/horse/horse167.png to animals_combined/horse/horse167.jpeg\n",
            "Conversion successful: animals_combined/horse/horse110.png to animals_combined/horse/horse110.jpeg\n",
            "Conversion successful: animals_combined/horse/horse97.png to animals_combined/horse/horse97.jpeg\n",
            "Conversion successful: animals_combined/horse/horse165.png to animals_combined/horse/horse165.jpeg\n",
            "Conversion successful: animals_combined/horse/horse36.png to animals_combined/horse/horse36.jpeg\n",
            "Conversion successful: animals_combined/horse/horse155.png to animals_combined/horse/horse155.jpeg\n",
            "Conversion successful: animals_combined/horse/horse240.png to animals_combined/horse/horse240.jpeg\n",
            "Conversion successful: animals_combined/horse/horse154.png to animals_combined/horse/horse154.jpeg\n",
            "Conversion successful: animals_combined/horse/horse53.png to animals_combined/horse/horse53.jpeg\n",
            "Conversion successful: animals_combined/horse/horse244.png to animals_combined/horse/horse244.jpeg\n"
          ]
        }
      ],
      "source": [
        "from PIL import Image\n",
        "import os\n",
        "\n",
        "def convert_png_to_jpeg(png_path):\n",
        "    try:\n",
        "        # Open PNG image\n",
        "        with Image.open(png_path) as img:\n",
        "            # Convert and save as JPEG\n",
        "            jpeg_path = os.path.splitext(png_path)[0] + \".jpeg\"\n",
        "            img.convert(\"RGB\").save(jpeg_path, \"JPEG\")\n",
        "        print(f\"Conversion successful: {png_path} to {jpeg_path}\")\n",
        "    except Exception as e:\n",
        "        print(f\"Error converting {png_path}: {e}\")\n",
        "\n",
        "def batch_convert_png_to_jpeg(directory_path):\n",
        "    # Loop through each file in the directory\n",
        "    for root, dirs, files in os.walk(directory_path):\n",
        "        for file in files:\n",
        "            # Check if the file is a PNG\n",
        "            if file.lower().endswith(\".png\"):\n",
        "                png_path = os.path.join(root, file)\n",
        "                convert_png_to_jpeg(png_path)\n",
        "\n",
        "# Example usage\n",
        "directory_path = \"animals_combined\"\n",
        "batch_convert_png_to_jpeg(directory_path)"
      ]
    },
    {
      "cell_type": "markdown",
      "metadata": {
        "id": "Hxok_p3mGWQ_"
      },
      "source": [
        "## Image Augmentation"
      ]
    },
    {
      "cell_type": "markdown",
      "metadata": {
        "id": "24hz5FXRWVtt"
      },
      "source": []
    },
    {
      "cell_type": "code",
      "source": [
        "from keras.preprocessing.image import ImageDataGenerator\n",
        "\n",
        "train_dir = '/content/animals_combined'\n",
        "\n",
        "train_datagen = ImageDataGenerator(\n",
        "    rescale = 1./255,\n",
        "    rotation_range=40,\n",
        "    width_shift_range=0.2,\n",
        "    height_shift_range=0.2,\n",
        "    shear_range=0.2,\n",
        "    zoom_range=0.2,\n",
        "    horizontal_flip=True,\n",
        "    fill_mode='nearest',\n",
        "    validation_split=0.2,\n",
        "    )\n",
        "\n",
        "train_generator = train_datagen.flow_from_directory(\n",
        "    directory = train_dir,\n",
        "    target_size = (150, 150),\n",
        "    class_mode = \"categorical\",\n",
        "    batch_size = 64,\n",
        "    subset = 'training',\n",
        "    color_mode = 'rgb'\n",
        ")\n",
        "\n",
        "val_generator = train_datagen.flow_from_directory(\n",
        "    directory = train_dir,\n",
        "    target_size = (150, 150),\n",
        "    class_mode = \"categorical\",\n",
        "    batch_size = 64,\n",
        "    subset = 'validation',\n",
        "    color_mode = 'rgb'\n",
        ")"
      ],
      "metadata": {
        "colab": {
          "base_uri": "https://localhost:8080/"
        },
        "id": "HHuRDa9ZEuuq",
        "outputId": "a1a74d0c-c8a7-4a9f-852f-ef83207ddd61"
      },
      "execution_count": null,
      "outputs": [
        {
          "output_type": "stream",
          "name": "stdout",
          "text": [
            "Found 11186 images belonging to 5 classes.\n",
            "Found 2794 images belonging to 5 classes.\n"
          ]
        }
      ]
    },
    {
      "cell_type": "code",
      "source": [
        "import tensorflow as tf\n",
        "\n",
        "from tensorflow.keras.models import Sequential\n",
        "from tensorflow.keras import layers, models, regularizers\n",
        "from tensorflow.keras.layers import Conv2D, MaxPooling2D, Flatten, Dense, Dropout\n",
        "from tensorflow.keras import layers, models\n",
        "\n",
        "\n",
        "model = models.Sequential([\n",
        "    layers.Conv2D(filters=512, kernel_size=(2, 2), activation='relu', input_shape=(150, 150, 3)),\n",
        "    layers.MaxPooling2D(2, 2),\n",
        "    layers.SeparableConv2D(filters=512, kernel_size=(4, 4), activation='relu'),\n",
        "    layers.MaxPooling2D(2, 2),\n",
        "    layers.SeparableConv2D(filters=512, kernel_size=(4, 4), activation='relu'),\n",
        "    layers.MaxPooling2D(2, 2),\n",
        "    layers.SeparableConv2D(filters=512, kernel_size=(4, 4), activation='relu'),\n",
        "    layers.MaxPooling2D(2, 2),\n",
        "    layers.Flatten(),\n",
        "    layers.Dense(128, activation='relu'),\n",
        "    layers.Dense(5, activation='softmax')\n",
        "])\n",
        "\n",
        "model.compile(optimizer=tf.keras.optimizers.AdamW(),\n",
        "              loss='categorical_crossentropy',\n",
        "              metrics = ['accuracy'])\n",
        "\n",
        "\n",
        "model.summary()"
      ],
      "metadata": {
        "colab": {
          "base_uri": "https://localhost:8080/"
        },
        "id": "fr0CJAMOE1zK",
        "outputId": "eea0f0e5-3c9f-4bbc-a790-1852ac307719"
      },
      "execution_count": null,
      "outputs": [
        {
          "output_type": "stream",
          "name": "stdout",
          "text": [
            "Model: \"sequential_1\"\n",
            "_________________________________________________________________\n",
            " Layer (type)                Output Shape              Param #   \n",
            "=================================================================\n",
            " conv2d_1 (Conv2D)           (None, 149, 149, 512)     6656      \n",
            "                                                                 \n",
            " max_pooling2d_3 (MaxPoolin  (None, 74, 74, 512)       0         \n",
            " g2D)                                                            \n",
            "                                                                 \n",
            " separable_conv2d (Separabl  (None, 71, 71, 512)       270848    \n",
            " eConv2D)                                                        \n",
            "                                                                 \n",
            " max_pooling2d_4 (MaxPoolin  (None, 35, 35, 512)       0         \n",
            " g2D)                                                            \n",
            "                                                                 \n",
            " separable_conv2d_1 (Separa  (None, 32, 32, 512)       270848    \n",
            " bleConv2D)                                                      \n",
            "                                                                 \n",
            " max_pooling2d_5 (MaxPoolin  (None, 16, 16, 512)       0         \n",
            " g2D)                                                            \n",
            "                                                                 \n",
            " separable_conv2d_2 (Separa  (None, 13, 13, 512)       270848    \n",
            " bleConv2D)                                                      \n",
            "                                                                 \n",
            " max_pooling2d_6 (MaxPoolin  (None, 6, 6, 512)         0         \n",
            " g2D)                                                            \n",
            "                                                                 \n",
            " flatten_1 (Flatten)         (None, 18432)             0         \n",
            "                                                                 \n",
            " dense_3 (Dense)             (None, 128)               2359424   \n",
            "                                                                 \n",
            " dense_4 (Dense)             (None, 5)                 645       \n",
            "                                                                 \n",
            "=================================================================\n",
            "Total params: 3179269 (12.13 MB)\n",
            "Trainable params: 3179269 (12.13 MB)\n",
            "Non-trainable params: 0 (0.00 Byte)\n",
            "_________________________________________________________________\n"
          ]
        }
      ]
    },
    {
      "cell_type": "code",
      "source": [
        "from tensorflow.keras.callbacks import Callback, ReduceLROnPlateau, EarlyStopping\n",
        "\n",
        "#Call back function\n",
        "\n",
        "auto_reduction_LR = ReduceLROnPlateau(\n",
        "    monitor = 'val_accuracy',\n",
        "    patience = 2,\n",
        "    verbose = 1,\n",
        "    factor = 0.4,\n",
        "    min_lr = 0.000003\n",
        ")\n",
        "\n",
        "auto_stop_learn = EarlyStopping(\n",
        "    monitor = 'val_accuracy',\n",
        "    min_delta=0,\n",
        "    patience = 5,\n",
        "    verbose=1,\n",
        "    mode= 'auto'\n",
        ")\n",
        "\n",
        "history = model.fit(train_generator,\n",
        "                    validation_data = val_generator,\n",
        "                    epochs = 50,\n",
        "                    callbacks=[auto_reduction_LR,auto_stop_learn])"
      ],
      "metadata": {
        "colab": {
          "base_uri": "https://localhost:8080/"
        },
        "id": "FcCHb4sDE9qs",
        "outputId": "2a04ae4a-faff-4d12-a7ac-060aa784493d"
      },
      "execution_count": null,
      "outputs": [
        {
          "output_type": "stream",
          "name": "stdout",
          "text": [
            "Epoch 1/50\n",
            "175/175 [==============================] - 165s 867ms/step - loss: 1.6081 - accuracy: 0.2274 - val_loss: 1.6076 - val_accuracy: 0.2287 - lr: 0.0010\n",
            "Epoch 2/50\n",
            "175/175 [==============================] - 147s 840ms/step - loss: 1.6044 - accuracy: 0.2333 - val_loss: 1.5258 - val_accuracy: 0.3454 - lr: 0.0010\n",
            "Epoch 3/50\n",
            "175/175 [==============================] - 141s 803ms/step - loss: 1.4989 - accuracy: 0.3482 - val_loss: 1.4590 - val_accuracy: 0.3665 - lr: 0.0010\n",
            "Epoch 4/50\n",
            "175/175 [==============================] - 140s 801ms/step - loss: 1.4339 - accuracy: 0.3945 - val_loss: 1.3750 - val_accuracy: 0.4341 - lr: 0.0010\n",
            "Epoch 5/50\n",
            "175/175 [==============================] - 140s 797ms/step - loss: 1.3624 - accuracy: 0.4330 - val_loss: 1.2886 - val_accuracy: 0.4571 - lr: 0.0010\n",
            "Epoch 6/50\n",
            "175/175 [==============================] - 139s 796ms/step - loss: 1.2867 - accuracy: 0.4650 - val_loss: 1.1668 - val_accuracy: 0.5308 - lr: 0.0010\n",
            "Epoch 7/50\n",
            "175/175 [==============================] - 155s 888ms/step - loss: 1.1891 - accuracy: 0.5124 - val_loss: 1.0628 - val_accuracy: 0.5669 - lr: 0.0010\n",
            "Epoch 8/50\n",
            "175/175 [==============================] - 140s 798ms/step - loss: 1.1274 - accuracy: 0.5397 - val_loss: 0.9795 - val_accuracy: 0.6178 - lr: 0.0010\n",
            "Epoch 9/50\n",
            "175/175 [==============================] - 140s 798ms/step - loss: 1.0450 - accuracy: 0.5862 - val_loss: 0.9001 - val_accuracy: 0.6525 - lr: 0.0010\n",
            "Epoch 10/50\n",
            "175/175 [==============================] - 140s 798ms/step - loss: 0.9476 - accuracy: 0.6221 - val_loss: 0.8367 - val_accuracy: 0.6718 - lr: 0.0010\n",
            "Epoch 11/50\n",
            "175/175 [==============================] - 139s 793ms/step - loss: 0.8809 - accuracy: 0.6568 - val_loss: 0.9126 - val_accuracy: 0.6439 - lr: 0.0010\n",
            "Epoch 12/50\n",
            "175/175 [==============================] - 140s 798ms/step - loss: 0.8187 - accuracy: 0.6791 - val_loss: 0.7021 - val_accuracy: 0.7348 - lr: 0.0010\n",
            "Epoch 13/50\n",
            "175/175 [==============================] - 139s 794ms/step - loss: 0.7755 - accuracy: 0.6959 - val_loss: 0.6779 - val_accuracy: 0.7502 - lr: 0.0010\n",
            "Epoch 14/50\n",
            "175/175 [==============================] - 139s 794ms/step - loss: 0.7385 - accuracy: 0.7171 - val_loss: 0.6356 - val_accuracy: 0.7606 - lr: 0.0010\n",
            "Epoch 15/50\n",
            "175/175 [==============================] - 155s 885ms/step - loss: 0.7081 - accuracy: 0.7267 - val_loss: 0.6495 - val_accuracy: 0.7495 - lr: 0.0010\n",
            "Epoch 16/50\n",
            "175/175 [==============================] - 140s 797ms/step - loss: 0.6689 - accuracy: 0.7428 - val_loss: 0.6267 - val_accuracy: 0.7609 - lr: 0.0010\n",
            "Epoch 17/50\n",
            "175/175 [==============================] - 155s 887ms/step - loss: 0.6318 - accuracy: 0.7534 - val_loss: 0.5261 - val_accuracy: 0.8021 - lr: 0.0010\n",
            "Epoch 18/50\n",
            "175/175 [==============================] - 139s 796ms/step - loss: 0.6101 - accuracy: 0.7684 - val_loss: 0.5021 - val_accuracy: 0.8092 - lr: 0.0010\n",
            "Epoch 19/50\n",
            "175/175 [==============================] - 139s 793ms/step - loss: 0.5891 - accuracy: 0.7739 - val_loss: 0.4695 - val_accuracy: 0.8296 - lr: 0.0010\n",
            "Epoch 20/50\n",
            "175/175 [==============================] - 139s 792ms/step - loss: 0.5635 - accuracy: 0.7821 - val_loss: 0.4819 - val_accuracy: 0.8236 - lr: 0.0010\n",
            "Epoch 21/50\n",
            "175/175 [==============================] - ETA: 0s - loss: 0.5293 - accuracy: 0.7955\n",
            "Epoch 21: ReduceLROnPlateau reducing learning rate to 0.0004000000189989805.\n",
            "175/175 [==============================] - 139s 794ms/step - loss: 0.5293 - accuracy: 0.7955 - val_loss: 0.4514 - val_accuracy: 0.8289 - lr: 0.0010\n",
            "Epoch 22/50\n",
            "175/175 [==============================] - 139s 791ms/step - loss: 0.4793 - accuracy: 0.8183 - val_loss: 0.4170 - val_accuracy: 0.8465 - lr: 4.0000e-04\n",
            "Epoch 23/50\n",
            "175/175 [==============================] - 143s 815ms/step - loss: 0.4605 - accuracy: 0.8223 - val_loss: 0.4267 - val_accuracy: 0.8457 - lr: 4.0000e-04\n",
            "Epoch 24/50\n",
            "175/175 [==============================] - ETA: 0s - loss: 0.4519 - accuracy: 0.8282\n",
            "Epoch 24: ReduceLROnPlateau reducing learning rate to 0.00016000000759959222.\n",
            "175/175 [==============================] - 144s 821ms/step - loss: 0.4519 - accuracy: 0.8282 - val_loss: 0.4227 - val_accuracy: 0.8436 - lr: 4.0000e-04\n",
            "Epoch 25/50\n",
            "175/175 [==============================] - 159s 908ms/step - loss: 0.4243 - accuracy: 0.8383 - val_loss: 0.3927 - val_accuracy: 0.8579 - lr: 1.6000e-04\n",
            "Epoch 26/50\n",
            "175/175 [==============================] - 141s 805ms/step - loss: 0.4222 - accuracy: 0.8398 - val_loss: 0.3799 - val_accuracy: 0.8601 - lr: 1.6000e-04\n",
            "Epoch 27/50\n",
            "175/175 [==============================] - 141s 805ms/step - loss: 0.4163 - accuracy: 0.8394 - val_loss: 0.3980 - val_accuracy: 0.8504 - lr: 1.6000e-04\n",
            "Epoch 28/50\n",
            "175/175 [==============================] - 141s 803ms/step - loss: 0.4099 - accuracy: 0.8448 - val_loss: 0.3643 - val_accuracy: 0.8651 - lr: 1.6000e-04\n",
            "Epoch 29/50\n",
            "175/175 [==============================] - 140s 802ms/step - loss: 0.4085 - accuracy: 0.8429 - val_loss: 0.3678 - val_accuracy: 0.8694 - lr: 1.6000e-04\n",
            "Epoch 30/50\n",
            "175/175 [==============================] - 141s 806ms/step - loss: 0.4019 - accuracy: 0.8466 - val_loss: 0.3795 - val_accuracy: 0.8604 - lr: 1.6000e-04\n",
            "Epoch 31/50\n",
            "175/175 [==============================] - ETA: 0s - loss: 0.3971 - accuracy: 0.8487\n",
            "Epoch 31: ReduceLROnPlateau reducing learning rate to 6.40000042039901e-05.\n",
            "175/175 [==============================] - 138s 786ms/step - loss: 0.3971 - accuracy: 0.8487 - val_loss: 0.3654 - val_accuracy: 0.8597 - lr: 1.6000e-04\n",
            "Epoch 32/50\n",
            "175/175 [==============================] - 140s 797ms/step - loss: 0.3838 - accuracy: 0.8540 - val_loss: 0.3727 - val_accuracy: 0.8647 - lr: 6.4000e-05\n",
            "Epoch 33/50\n",
            "175/175 [==============================] - ETA: 0s - loss: 0.3860 - accuracy: 0.8527\n",
            "Epoch 33: ReduceLROnPlateau reducing learning rate to 2.560000284574926e-05.\n",
            "175/175 [==============================] - 139s 794ms/step - loss: 0.3860 - accuracy: 0.8527 - val_loss: 0.3687 - val_accuracy: 0.8597 - lr: 6.4000e-05\n",
            "Epoch 34/50\n",
            "175/175 [==============================] - 139s 793ms/step - loss: 0.3667 - accuracy: 0.8600 - val_loss: 0.3499 - val_accuracy: 0.8651 - lr: 2.5600e-05\n",
            "Epoch 34: early stopping\n"
          ]
        }
      ]
    },
    {
      "cell_type": "code",
      "execution_count": null,
      "metadata": {
        "id": "b5CSlbuq9hCT",
        "colab": {
          "base_uri": "https://localhost:8080/",
          "height": 472
        },
        "outputId": "72504b85-4d7c-47d5-f183-206a75ce8a80"
      },
      "outputs": [
        {
          "output_type": "display_data",
          "data": {
            "text/plain": [
              "<Figure size 640x480 with 1 Axes>"
            ],
            "image/png": "[encoded data removed]"
          },
          "metadata": {}
        }
      ],
      "source": [
        "import matplotlib.pyplot as plt\n",
        "\n",
        "plt.plot(history.history['accuracy'])\n",
        "plt.plot(history.history['val_accuracy'])\n",
        "plt.title('Accuracy')\n",
        "plt.ylabel('accuracy')\n",
        "plt.xlabel('epoch')\n",
        "plt.legend(['train', 'val'], loc='upper left')\n",
        "plt.show()"
      ]
    },
    {
      "cell_type": "code",
      "execution_count": null,
      "metadata": {
        "id": "J6PO8yUY9pOB",
        "colab": {
          "base_uri": "https://localhost:8080/",
          "height": 472
        },
        "outputId": "82619e63-9087-4f57-8cfd-b72961847c2a"
      },
      "outputs": [
        {
          "output_type": "display_data",
          "data": {
            "text/plain": [
              "<Figure size 640x480 with 1 Axes>"
            ],
            "image/png": "[encoded data removed]"
          },
          "metadata": {}
        }
      ],
      "source": [
        "plt.plot(history.history['loss'])\n",
        "plt.plot(history.history['val_loss'])\n",
        "plt.title('Loss')\n",
        "plt.ylabel('loss')\n",
        "plt.xlabel('epoch')\n",
        "plt.legend(['train', 'val'], loc='upper left')\n",
        "plt.show()"
      ]
    },
    {
      "cell_type": "code",
      "execution_count": null,
      "metadata": {
        "id": "vED207eS9svx"
      },
      "outputs": [],
      "source": [
        "\n",
        "converter = tf.lite.TFLiteConverter.from_keras_model(model)\n",
        "tflite_model = converter.convert()\n",
        "\n",
        "with tf.io.gfile.GFile('model.tflite', 'wb') as f:\n",
        "  f.write(tflite_model)"
      ]
    },
    {
      "cell_type": "code",
      "execution_count": null,
      "metadata": {
        "id": "oyHHH3Wk95Lp",
        "colab": {
          "base_uri": "https://localhost:8080/"
        },
        "outputId": "fb85534f-0458-42e8-a906-4b5a539fe7ea"
      },
      "outputs": [
        {
          "output_type": "stream",
          "name": "stdout",
          "text": [
            "-rw-r--r-- 1 root root  12725568 Feb  2 07:41 model.tflite\n"
          ]
        }
      ],
      "source": [
        "!ls -la | grep 'model'"
      ]
    }
  ],
  "metadata": {
    "accelerator": "GPU",
    "colab": {
      "provenance": [],
      "include_colab_link": true
    },
    "kernelspec": {
      "display_name": "Python 3",
      "name": "python3"
    },
    "language_info": {
      "name": "python"
    }
  },
  "nbformat": 4,
  "nbformat_minor": 0
}
